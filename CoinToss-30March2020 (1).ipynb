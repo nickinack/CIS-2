{
 "cells": [
  {
   "cell_type": "markdown",
   "metadata": {},
   "source": [
    "# Coin toss\n",
    "\n",
    "If a coin has a probability of $p$ for showing heads and $q=1-p$ for showing heads, then the probability of seeing $M$ heads when coin is tossed $n>M$ times is given by: \n",
    "$$ P(M;n) = \\frac{n!}{M!(n-M)!} p^M q^{n-M} $$"
   ]
  },
  {
   "cell_type": "markdown",
   "metadata": {},
   "source": [
    "\n",
    "If the average the number of heads is denoted $M_n\\equiv M/n$, then clearly $0\\le M_n \\le 1$ and we expect that $M_{n\\rightarrow \\infty} = p$. For $M_n$ being in the range $(x,y)$, we have: \n",
    "$$ Prob(x<M_n<y) = \\sum_{r \\in \\mathcal Z~\\wedge~x<\\frac{r}{n}<y} P(r;n) $$\n",
    "\n"
   ]
  },
  {
   "cell_type": "markdown",
   "metadata": {},
   "source": [
    "## Task-1:  \n",
    "1. Plot $\\log P(M_n=x)$ vs $x$ for various $n$.  Note that $\\int_{0}^{1} dx~P(M_n=x) = 1$.\n",
    "2. Show that $P(M_n=x)$ near $x=\\frac{1}{2}$ is Gaussian."
   ]
  },
  {
   "cell_type": "code",
   "execution_count": 1,
   "metadata": {},
   "outputs": [],
   "source": []
  },
  {
   "cell_type": "markdown",
   "metadata": {},
   "source": [
    "## Task-2:  Assume a fair coin from now on i.e. $p=q=\\frac{1}{2}$\n",
    "\n",
    "Plot $\\log P(M_n > x)$ as a function of $n\\in[1,250]$ for $x=0.6,~0.7,~0.8,~0.9$"
   ]
  },
  {
   "cell_type": "code",
   "execution_count": null,
   "metadata": {},
   "outputs": [],
   "source": []
  },
  {
   "cell_type": "markdown",
   "metadata": {},
   "source": [
    "## Task-3: \n",
    "Note that for large $N$, the above plots are linear. \n",
    "Fit the above plots (of $\\log Prob(M_n >x)$ vs $n$) to straight lines for large $n$ and get the slope, which we will call $I(x)$. Now plot $I(x)$ vs $x$."
   ]
  },
  {
   "cell_type": "code",
   "execution_count": null,
   "metadata": {},
   "outputs": [],
   "source": []
  },
  {
   "cell_type": "markdown",
   "metadata": {},
   "source": [
    "## Task-4:  Random walk\n",
    "Let $c(t)$ be the result of coin toss, tossed at time $t$. Then Random Walk is given by \n",
    "$$ x(t+1) = x(t) + \\delta_{c(t),H} - \\delta_{c(t),T}\n",
    "$$ \n",
    "with $x(0)=0$ and $c(t)$ is the coin toss at time $t$, with two possible outcomes heads ($H$) or tails ($T$).\n",
    "\n",
    "Plot a one realisation of $x(t)$ for $t\\in[0,100]$\n"
   ]
  },
  {
   "cell_type": "markdown",
   "metadata": {},
   "source": [
    "## Task-5: Moments of distribution of $x(t)$\n",
    "\n",
    "1. What would be $\\langle x(t) \\rangle$? \n",
    "2. What would be $\\langle x^2(t) \\rangle$? Why?\n",
    "3. Compute them by genrating a sample of random walks. Comment on the 'error' of the calculation"
   ]
  },
  {
   "cell_type": "code",
   "execution_count": null,
   "metadata": {},
   "outputs": [],
   "source": []
  },
  {
   "cell_type": "code",
   "execution_count": null,
   "metadata": {},
   "outputs": [],
   "source": []
  },
  {
   "cell_type": "markdown",
   "metadata": {},
   "source": [
    "## Task-6: Random walk with a trap\n",
    "\n",
    "At $x=M$, random walker is trapped, i.e. imagine that $x=M$ is the location of jail, where once the 'drunk' random walker reaches, is trapped for ever. \n",
    "\n",
    "Let $y_M(t)$ is the probabilty that a trapped random walker at time $t$ in a trap located at $x=M$, given that  starting  point is $x=0$ at $t=0$. \n",
    "\n",
    "Compute $y_M(t)$ by generating a sample of random walks. Comment."
   ]
  },
  {
   "cell_type": "code",
   "execution_count": null,
   "metadata": {},
   "outputs": [],
   "source": []
  },
  {
   "cell_type": "code",
   "execution_count": null,
   "metadata": {},
   "outputs": [],
   "source": []
  },
  {
   "cell_type": "markdown",
   "metadata": {},
   "source": [
    "## Task-7: What is the relationship between the result in Task-2 for `Coin Toss problem` and the rate of reaching the trap in Task-6 for `Random walk with a trap` problem"
   ]
  },
  {
   "cell_type": "code",
   "execution_count": null,
   "metadata": {},
   "outputs": [],
   "source": []
  }
 ],
 "metadata": {
  "kernelspec": {
   "display_name": "Python 3",
   "language": "python",
   "name": "python3"
  },
  "language_info": {
   "codemirror_mode": {
    "name": "ipython",
    "version": 3
   },
   "file_extension": ".py",
   "mimetype": "text/x-python",
   "name": "python",
   "nbconvert_exporter": "python",
   "pygments_lexer": "ipython3",
   "version": "3.8.2"
  }
 },
 "nbformat": 4,
 "nbformat_minor": 2
}
